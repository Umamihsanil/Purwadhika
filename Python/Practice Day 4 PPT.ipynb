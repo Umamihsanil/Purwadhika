{
 "cells": [
  {
   "cell_type": "code",
   "execution_count": 5,
   "metadata": {},
   "outputs": [
    {
     "name": "stdout",
     "output_type": "stream",
     "text": [
      "['Ganjil', 'Genap', 'Ganjil', 'Genap', 'Ganjil']\n"
     ]
    }
   ],
   "source": [
    "#Q1\n",
    "\n",
    "def convert(value):\n",
    "    if value%2 == 0:\n",
    "        return 'Genap'\n",
    "    else:\n",
    "        return 'Ganjil'\n",
    "    \n",
    "l1 = [1, 2, 3, 4, 5]\n",
    "result = list (map(convert, l1))\n",
    "\n",
    "print(result)"
   ]
  },
  {
   "cell_type": "code",
   "execution_count": 6,
   "metadata": {},
   "outputs": [
    {
     "name": "stdout",
     "output_type": "stream",
     "text": [
      "[9800000.0, 9500000.0, 10300000.0]\n"
     ]
    }
   ],
   "source": [
    "#Q2\n",
    "\n",
    "def convert(gaji):\n",
    "    x = gaji * (1 - 0.05)\n",
    "    if x >=9000000:\n",
    "        return gaji\n",
    "    \n",
    "l1 = [91e5, 98e5, 95e5, 103e5, 93e5]\n",
    "result = list (filter(convert, l1))\n",
    "\n",
    "print(result)"
   ]
  },
  {
   "cell_type": "code",
   "execution_count": null,
   "metadata": {},
   "outputs": [],
   "source": [
    "#Q3\n"
   ]
  }
 ],
 "metadata": {
  "kernelspec": {
   "display_name": "base",
   "language": "python",
   "name": "python3"
  },
  "language_info": {
   "codemirror_mode": {
    "name": "ipython",
    "version": 3
   },
   "file_extension": ".py",
   "mimetype": "text/x-python",
   "name": "python",
   "nbconvert_exporter": "python",
   "pygments_lexer": "ipython3",
   "version": "3.11.5"
  }
 },
 "nbformat": 4,
 "nbformat_minor": 2
}
