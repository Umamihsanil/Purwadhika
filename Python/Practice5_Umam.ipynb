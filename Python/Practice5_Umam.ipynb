{
 "cells": [
  {
   "cell_type": "code",
   "execution_count": 204,
   "metadata": {},
   "outputs": [],
   "source": [
    "# Q1\n",
    "\n",
    "def getSmallest(nums):\n",
    "    if len(nums) == 0:\n",
    "        return None\n",
    "    \n",
    "    smallest = nums[0]\n",
    "    for num in nums:\n",
    "        if num < smallest:\n",
    "            smallest = num \n",
    "\n",
    "    return smallest\n",
    "\n",
    "assert getSmallest([1, 2, 3]) == 1\n",
    "assert getSmallest([3, 2, 1]) == 1\n",
    "assert getSmallest([28, 25, 42, 2, 28]) == 2\n",
    "assert getSmallest([1]) == 1\n",
    "assert getSmallest([]) == None"
   ]
  },
  {
   "cell_type": "code",
   "execution_count": 203,
   "metadata": {},
   "outputs": [
    {
     "data": {
      "text/plain": [
       "(0, 1)"
      ]
     },
     "execution_count": 203,
     "metadata": {},
     "output_type": "execute_result"
    }
   ],
   "source": [
    "#Q2\n",
    "\n",
    "nums = [2, 7, 11, 15] \n",
    "target = 9\n",
    "\n",
    "a = []\n",
    "\n",
    "def findIndex(x, y):\n",
    "    for i, val in enumerate(x):\n",
    "        if y - val in x:\n",
    "            a.append(i)\n",
    "            b = tuple(a)\n",
    "    return b\n",
    "        \n",
    "findIndex(nums, target)\n"
   ]
  },
  {
   "cell_type": "code",
   "execution_count": 89,
   "metadata": {},
   "outputs": [
    {
     "data": {
      "text/plain": [
       "(('a', 1), ('d', 2), ('b', 3), ('c', 5))"
      ]
     },
     "execution_count": 89,
     "metadata": {},
     "output_type": "execute_result"
    }
   ],
   "source": [
    "#Q3\n",
    "\n",
    "nums = (('a', 1), ('b', 3), ('c', 5), ('d', 2))\n",
    "\n",
    "#Mengubah ke list\n",
    "nums = list(nums)\n",
    "\n",
    "def sortTuple(nums):\n",
    "    for i in range(len(nums)):\n",
    "        for j in range(len(nums)-1):\n",
    "            if nums[i][1] < nums[j][1]:\n",
    "                nums[i], nums[j] = nums[j], nums[i]\n",
    "\n",
    "    nums = tuple(nums)\n",
    "    return nums\n",
    "\n",
    "sortTuple(nums)"
   ]
  },
  {
   "cell_type": "code",
   "execution_count": 130,
   "metadata": {},
   "outputs": [
    {
     "data": {
      "text/plain": [
       "(7, 0, 8)"
      ]
     },
     "execution_count": 130,
     "metadata": {},
     "output_type": "execute_result"
    }
   ],
   "source": [
    "#Q4\n",
    "\n",
    "l1 = [2, 4, 3]\n",
    "l2 = [5, 6, 4]\n",
    "\n",
    "def addList(l1, l2):\n",
    "    out1 = ''\n",
    "    for i in l1[::-1]:\n",
    "        out1 += str(i)\n",
    "\n",
    "    out2 = ''\n",
    "    for j in l2[::-1]:\n",
    "        out2 += str(j)\n",
    "    \n",
    "    SUM = str(int(out1) + int(out2))\n",
    "    OUT = [int(i) for i in SUM]\n",
    "\n",
    "    return tuple(OUT[::-1])\n",
    "         \n",
    "\n",
    "addList(l1, l2)"
   ]
  },
  {
   "cell_type": "code",
   "execution_count": 131,
   "metadata": {},
   "outputs": [
    {
     "data": {
      "text/plain": [
       "[[1, 2], [3, 10], [12, 16]]"
      ]
     },
     "execution_count": 131,
     "metadata": {},
     "output_type": "execute_result"
    }
   ],
   "source": [
    "#Q5\n",
    "\n",
    "l1 = [[1, 2], [3, 5], [6, 7], [8, 10], [12, 16]] \n",
    "l2 = [4, 8]\n",
    "\n",
    "def insertList(l1, l2):\n",
    "    result = []\n",
    "    n = len(l1)\n",
    "    i = 0\n",
    "\n",
    "\n",
    "    while i < n and l1[i][1] < l2[0]:\n",
    "        result.append(l1[i])\n",
    "        i += 1\n",
    "\n",
    "    while i < n and l1[i][0] <= l2[1]:\n",
    "        l2[0] = min(l1[i][0], l2[0])\n",
    "        l2[1] = max(l1[i][1], l2[1])\n",
    "        i += 1\n",
    "\n",
    "    result.append(l2)\n",
    "\n",
    "    while i < n:\n",
    "        result.append(l1[i])\n",
    "        i += 1\n",
    "\n",
    "    return result\n",
    "\n",
    "insertList(l1, l2)"
   ]
  },
  {
   "cell_type": "code",
   "execution_count": 143,
   "metadata": {},
   "outputs": [],
   "source": [
    "#Q6\n",
    "\n",
    "def mergeTwoLists(list1, list2):\n",
    "    result = []\n",
    "    i, j = 0, 0\n",
    "\n",
    "    while i < len(list1) and j < len(list2):\n",
    "        if list1[i] < list2[j]:\n",
    "            result.append(list1[i])\n",
    "            i += 1\n",
    "        else:\n",
    "            result.append(list2[j])\n",
    "            j += 1\n",
    "\n",
    "    result.extend(list1[i:])\n",
    "    result.extend(list2[j:])\n",
    "\n",
    "    return result\n",
    "\n",
    "assert mergeTwoLists([1, 3, 6], [5, 7, 8, 9]) == [1, 3, 5, 6, 7, 8, 9]\n",
    "assert mergeTwoLists([4, 5], [1, 2, 3]) == [1, 2, 3, 4, 5]\n",
    "assert mergeTwoLists([2, 2, 2], [2, 2, 2]) == [2, 2, 2, 2, 2, 2]\n",
    "assert mergeTwoLists([], [1, 2, 3]) == [1, 2, 3]"
   ]
  },
  {
   "cell_type": "code",
   "execution_count": 201,
   "metadata": {},
   "outputs": [],
   "source": [
    "#Q7\n",
    "\n",
    "import random\n",
    "\n",
    "def generatePassword(length):\n",
    "\n",
    "    length = max(length, 12)\n",
    "\n",
    "    LOWER_LETTERS = 'abcdefghijklmnopqrstuvwxyz'\n",
    "    UPPER_LETTERS = 'ABCDEFGHIJKLMNOPQRSTUVWXYZ'\n",
    "    NUMBERS = '1234567890'\n",
    "    SPECIAL = '~!@#$%^&*()_+'\n",
    "\n",
    "    password = [\n",
    "        random.choice(LOWER_LETTERS),\n",
    "        random.choice(UPPER_LETTERS),\n",
    "        random.choice(NUMBERS),\n",
    "        random.choice(SPECIAL)\n",
    "    ]\n",
    "\n",
    "    remaining_length = length - len(password)\n",
    "    all_characters = LOWER_LETTERS + UPPER_LETTERS + NUMBERS + SPECIAL\n",
    "    password.extend(random.choice(all_characters) for _ in range(remaining_length))\n",
    "\n",
    "    random.shuffle(password)\n",
    "\n",
    "    return ''.join(password)\n",
    "\n",
    "password = generatePassword(8)\n",
    "hasLowerCase = False\n",
    "hasUpperCase = False\n",
    "hasNumber = False\n",
    "hasSpecial = False\n",
    "\n",
    "for char in password:\n",
    "    if char in LOWER_LETTERS:\n",
    "        hasLowerCase = True\n",
    "    if char in UPPER_LETTERS:\n",
    "        hasUpperCase = True\n",
    "    if char in NUMBERS:\n",
    "        hasNumber = True\n",
    "    if char in SPECIAL:\n",
    "        hasSpecial = True\n",
    "\n",
    "assert hasLowerCase and hasUpperCase and hasNumber and hasSpecial\n"
   ]
  },
  {
   "cell_type": "code",
   "execution_count": 191,
   "metadata": {},
   "outputs": [
    {
     "data": {
      "text/plain": [
       "[[-2, 0, 2], [-1, -1, 2], [-1, 0, 1]]"
      ]
     },
     "execution_count": 191,
     "metadata": {},
     "output_type": "execute_result"
    }
   ],
   "source": [
    "#Q8\n",
    "\n",
    "num = [-1, 0, 1, -2, -1, 2, -4]\n",
    "\n",
    "def sumList(num):\n",
    "    result = []\n",
    "    num.sort()\n",
    "\n",
    "    for i in range(len(num) - 2):\n",
    "        if i > 0 and num[i] == num[i - 1]:\n",
    "            continue\n",
    "\n",
    "        left, right = i + 1, len(num) - 1\n",
    "\n",
    "        while left < right:\n",
    "            current_sum = num[i] + num[left] + num[right]\n",
    "\n",
    "            if current_sum == 0:\n",
    "                result.append([num[i], num[left], num[right]])\n",
    "\n",
    "                while left < right and num[left] == num[left + 1]:\n",
    "                    left += 1\n",
    "                while left < right and num[right] == num[right - 1]:\n",
    "                    right -= 1\n",
    "\n",
    "                left += 1\n",
    "                right -= 1\n",
    "            elif current_sum < 0:\n",
    "                left += 1\n",
    "            else:\n",
    "                right -= 1\n",
    "\n",
    "    return result\n",
    "\n",
    "sumList(num)\n"
   ]
  }
 ],
 "metadata": {
  "kernelspec": {
   "display_name": "base",
   "language": "python",
   "name": "python3"
  },
  "language_info": {
   "codemirror_mode": {
    "name": "ipython",
    "version": 3
   },
   "file_extension": ".py",
   "mimetype": "text/x-python",
   "name": "python",
   "nbconvert_exporter": "python",
   "pygments_lexer": "ipython3",
   "version": "3.11.5"
  }
 },
 "nbformat": 4,
 "nbformat_minor": 2
}
