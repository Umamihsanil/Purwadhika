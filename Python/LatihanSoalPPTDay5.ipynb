{
 "cells": [
  {
   "cell_type": "code",
   "execution_count": 3,
   "metadata": {},
   "outputs": [
    {
     "name": "stdout",
     "output_type": "stream",
     "text": [
      "Max 89 dan Min 1\n"
     ]
    }
   ],
   "source": [
    "#Q1\n",
    "\n",
    "nums = [41, 5, 1, 3, 89, 32]\n",
    "minIdx = 0\n",
    "maxIdx = 0\n",
    "for idx, num in enumerate(nums):\n",
    "    if num> nums[maxIdx]:\n",
    "        maxIdx = idx\n",
    "    elif num <= nums[minIdx]:\n",
    "        minIdx = idx\n",
    "\n",
    "print(f'Max {nums[maxIdx]} dan Min {nums[minIdx]}')"
   ]
  },
  {
   "cell_type": "code",
   "execution_count": 10,
   "metadata": {},
   "outputs": [
    {
     "data": {
      "text/plain": [
       "[1, 3, 5, 32, 41, 89]"
      ]
     },
     "execution_count": 10,
     "metadata": {},
     "output_type": "execute_result"
    }
   ],
   "source": [
    "#Q2\n",
    "\n",
    "nums = [41, 5, 1, 3, 89, 32]\n",
    "\n",
    "for i in range(len(nums)):\n",
    "    for j in range(len(nums)-1):\n",
    "        if nums[i] < nums[j]:\n",
    "            nums[i], nums[j] = nums[j], nums[i]\n",
    "\n",
    "nums\n",
    "\n"
   ]
  }
 ],
 "metadata": {
  "kernelspec": {
   "display_name": "base",
   "language": "python",
   "name": "python3"
  },
  "language_info": {
   "codemirror_mode": {
    "name": "ipython",
    "version": 3
   },
   "file_extension": ".py",
   "mimetype": "text/x-python",
   "name": "python",
   "nbconvert_exporter": "python",
   "pygments_lexer": "ipython3",
   "version": "3.11.5"
  }
 },
 "nbformat": 4,
 "nbformat_minor": 2
}
