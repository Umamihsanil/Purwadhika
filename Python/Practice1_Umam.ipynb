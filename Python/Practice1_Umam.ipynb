{
 "cells": [
  {
   "cell_type": "code",
   "execution_count": 40,
   "metadata": {},
   "outputs": [
    {
     "name": "stdout",
     "output_type": "stream",
     "text": [
      "The length of your first name letter: 4\n"
     ]
    }
   ],
   "source": [
    "#Q1\n",
    "\n",
    "name = input(\"Enter your name: \")\n",
    "name = name.split()\n",
    "firstName = name[0]\n",
    "jumlahKarakter= len(firstName)\n",
    "print(f\"\"\"The length of your first name letter: {jumlahKarakter}\"\"\")"
   ]
  },
  {
   "cell_type": "code",
   "execution_count": 137,
   "metadata": {},
   "outputs": [
    {
     "name": "stdout",
     "output_type": "stream",
     "text": [
      "Your code: MMISNLUMH\n"
     ]
    }
   ],
   "source": [
    "#Q2\n",
    "\n",
    "name = input(\"Enter your name: \")\n",
    "odd = name[1::2]\n",
    "\n",
    "print(f\"Your code: {odd.upper()}\")"
   ]
  },
  {
   "cell_type": "code",
   "execution_count": 44,
   "metadata": {},
   "outputs": [
    {
     "name": "stdout",
     "output_type": "stream",
     "text": [
      "Total = 10\n",
      "Reverse = 4321\n"
     ]
    }
   ],
   "source": [
    "#Q3\n",
    "number = input('Enter four digits number: ') #bisa juga number = int.input('Enter four digits number: ')\n",
    "Total = int(number[0]) + int(number[1]) + int(number[2]) + int(number[3])\n",
    "Reverse = number[::-1]\n",
    "\n",
    "print(f\"\"\"Total = {Total}\n",
    "Reverse = {Reverse}\"\"\")"
   ]
  },
  {
   "cell_type": "code",
   "execution_count": 133,
   "metadata": {},
   "outputs": [
    {
     "name": "stdout",
     "output_type": "stream",
     "text": [
      "Slope = 2.0\n",
      "Distance = 2.236\n"
     ]
    }
   ],
   "source": [
    "#Q4\n",
    "import math\n",
    "\n",
    "x1, y1 = input('Enter the coordinate of point A:').split(',')\n",
    "x2, y2 = input('Enter the coordinate of point B:').split(',')\n",
    "\n",
    "Slope = (float(y2)-float(y1))/(float(x2)-float(x1))\n",
    "Dist = math.sqrt((float(x2)-float(x1))**2+(float(y2)-float(y1))**2)\n",
    "\n",
    "print (f\"\"\"Slope = {round(Slope,0)}\n",
    "Distance = {round(Dist,3)}\"\"\")"
   ]
  },
  {
   "cell_type": "code",
   "execution_count": 138,
   "metadata": {},
   "outputs": [
    {
     "name": "stdout",
     "output_type": "stream",
     "text": [
      "Output: dhiwa purka\n"
     ]
    }
   ],
   "source": [
    "#Q5\n",
    "\n",
    "text1, text2 = input('Masukkan teks anda: ').split(',')\n",
    "text1, text2 = text1.strip(), text2.strip()\n",
    "\n",
    "output = f'{text2[:3]}{text1[3:]} {text1[:3]}{text2[3:]}'\n",
    "print(f'Output: {output}')"
   ]
  },
  {
   "cell_type": "code",
   "execution_count": null,
   "metadata": {},
   "outputs": [],
   "source": [
    "#Q6\n",
    "\n",
    "text1 = input('Masukkan teks anda: ')\n",
    "text2 = input('Masukkan teks anda: ')\n",
    "\n",
    "mid = len(text1)//2\n",
    "output = f'{text1[0]}{text2[0]}{text1[mid]}{text2[mid]}{text1[-1]}{text2[-1]}'\n",
    "print(f'Output: {output}')"
   ]
  },
  {
   "cell_type": "code",
   "execution_count": null,
   "metadata": {},
   "outputs": [],
   "source": [
    "#Q7\n",
    "\n",
    "text1 = input('Masukkan teks anda: ')\n",
    "text2 = input('Masukkan teks anda: ')\n",
    "\n",
    "mid = len(text1)//2\n",
    "output = f'{text1[:mid]}{text2}{text1[mid:]}'\n",
    "print(f'Output: {output}')"
   ]
  }
 ],
 "metadata": {
  "kernelspec": {
   "display_name": "base",
   "language": "python",
   "name": "python3"
  },
  "language_info": {
   "codemirror_mode": {
    "name": "ipython",
    "version": 3
   },
   "file_extension": ".py",
   "mimetype": "text/x-python",
   "name": "python",
   "nbconvert_exporter": "python",
   "pygments_lexer": "ipython3",
   "version": "3.11.5"
  }
 },
 "nbformat": 4,
 "nbformat_minor": 2
}
