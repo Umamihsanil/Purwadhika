{
 "cells": [
  {
   "cell_type": "code",
   "execution_count": 1,
   "metadata": {},
   "outputs": [
    {
     "name": "stdout",
     "output_type": "stream",
     "text": [
      "[1, 3, 7, 9]\n"
     ]
    }
   ],
   "source": [
    "l1 = []\n",
    "for i in range(1, 10, 2):\n",
    "\tif i == 5:\n",
    "\t\tcontinue\n",
    "\telse:\n",
    "\t\tl1.append(i)\n",
    "\n",
    "print(l1)"
   ]
  },
  {
   "cell_type": "code",
   "execution_count": 2,
   "metadata": {},
   "outputs": [
    {
     "name": "stdout",
     "output_type": "stream",
     "text": [
      "Hallo,  Jhon\n"
     ]
    }
   ],
   "source": [
    "word = \"Hallo, good morning\"\n",
    "\n",
    "def greeting(name):\n",
    "\tword = \"Hallo, \"\n",
    "\tprint(\"{a} {b}\".format(a=word, b=name))\n",
    "\n",
    "greeting(\"Jhon\")"
   ]
  },
  {
   "cell_type": "code",
   "execution_count": null,
   "metadata": {},
   "outputs": [],
   "source": [
    "jhon = 175\n",
    "hanna = '166'\n",
    "if jhon == hanna:\n",
    "\tprint(\"jhon is greater than hanna\")"
   ]
  }
 ],
 "metadata": {
  "kernelspec": {
   "display_name": "base",
   "language": "python",
   "name": "python3"
  },
  "language_info": {
   "codemirror_mode": {
    "name": "ipython",
    "version": 3
   },
   "file_extension": ".py",
   "mimetype": "text/x-python",
   "name": "python",
   "nbconvert_exporter": "python",
   "pygments_lexer": "ipython3",
   "version": "3.11.5"
  }
 },
 "nbformat": 4,
 "nbformat_minor": 2
}
