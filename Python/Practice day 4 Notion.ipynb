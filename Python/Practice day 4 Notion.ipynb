{
 "cells": [
  {
   "cell_type": "code",
   "execution_count": 179,
   "metadata": {},
   "outputs": [],
   "source": [
    "#Q1 Factorial\n",
    "def fact(num):\n",
    "    if (num == 0):\n",
    "        return 1\n",
    "    elif (num < 0):\n",
    "        return None\n",
    "    else: \n",
    "        return num * fact(num-1)\n",
    "\n",
    "fact(3)\n",
    "\n",
    "assert fact(0) == 1\n",
    "assert fact(3) == 6\n",
    "assert fact(10) == 3628800\n",
    "assert fact(-10) == None"
   ]
  },
  {
   "cell_type": "code",
   "execution_count": 229,
   "metadata": {},
   "outputs": [],
   "source": [
    "#Q2\n",
    "\n",
    "def timeConvert(totalsecond):\n",
    "    if totalsecond == 0:\n",
    "        return '0s'\n",
    "    \n",
    "    hour = 0\n",
    "    while totalsecond >= 3600:\n",
    "        hour += 1\n",
    "        totalsecond -= 3600\n",
    "\n",
    "    minute = 0\n",
    "    while totalsecond >= 60:\n",
    "        minute += 1\n",
    "        totalsecond -= 60\n",
    "\n",
    "    sec = totalsecond\n",
    "\n",
    "    out = []\n",
    "    if hour > 0:\n",
    "        out.append(f'{hour}h')\n",
    "    if minute > 0:\n",
    "        out.append(f'{minute}m')\n",
    "    if sec > 0:\n",
    "        out.append(f'{sec}s')\n",
    "\n",
    "    return ' '.join(out)\n",
    "\n",
    "assert timeConvert(0) == '0s'\n",
    "assert timeConvert(30) == '30s'\n",
    "assert timeConvert(60) == '1m'\n",
    "assert timeConvert(90) == '1m 30s'\n",
    "assert timeConvert(3600) == '1h'\n",
    "assert timeConvert(3601) == '1h 1s'\n",
    "assert timeConvert(3661) == '1h 1m 1s'\n",
    "assert timeConvert(90042) == '25h 42s'"
   ]
  },
  {
   "cell_type": "code",
   "execution_count": 176,
   "metadata": {},
   "outputs": [],
   "source": [
    "#Q3\n",
    "\n",
    "def area(p, l):\n",
    "    return p * l\n",
    "\n",
    "def volume(p, l, t):\n",
    "    return area(p, l) * t\n",
    "\n",
    "\n",
    "area(10, 10)\n",
    "\n",
    "assert area(10, 10) == 100\n",
    "assert area(0, 9999) == 0\n",
    "assert volume(10, 10, 10) == 1000\n",
    "assert volume(5, 8, 10) == 400"
   ]
  },
  {
   "cell_type": "code",
   "execution_count": 187,
   "metadata": {},
   "outputs": [
    {
     "data": {
      "text/plain": [
       "'black'"
      ]
     },
     "execution_count": 187,
     "metadata": {},
     "output_type": "execute_result"
    }
   ],
   "source": [
    "#Q4\n",
    "\n",
    "def getColor(r,c ):\n",
    "    if r < 0 or  r>7 or c<0 or c>7:\n",
    "        return ''\n",
    "    elif r%2 == c%2:\n",
    "        return 'white'\n",
    "    else:\n",
    "        return 'black'\n",
    "\n",
    "getColor(1,2)"
   ]
  },
  {
   "cell_type": "code",
   "execution_count": 189,
   "metadata": {},
   "outputs": [
    {
     "data": {
      "text/plain": [
       "'QIIW QI FC WLI VTXI FYXLIX WTRMKLW.'"
      ]
     },
     "execution_count": 189,
     "metadata": {},
     "output_type": "execute_result"
    }
   ],
   "source": [
    "#Q5\n",
    "\n",
    "def encrypthor(text):\n",
    "    SYMBOL ='ABCDEFGHIJKLMNOPQRTSUVWXYZ'\n",
    "    out = ''\n",
    "    for word in text.upper():\n",
    "\n",
    "        if word in SYMBOL:\n",
    "            index = SYMBOL.find(word)\n",
    "            index += 4\n",
    "\n",
    "            if index > len(SYMBOL):\n",
    "                index -= len(SYMBOL)\n",
    "            \n",
    "            out += SYMBOL[index]\n",
    "        else:\n",
    "            out += word\n",
    "\n",
    "    return out\n",
    "\n",
    "encrypthor('Meet me by the rose bushes tonight.')\n"
   ]
  },
  {
   "cell_type": "code",
   "execution_count": 192,
   "metadata": {},
   "outputs": [
    {
     "data": {
      "text/plain": [
       "False"
      ]
     },
     "execution_count": 192,
     "metadata": {},
     "output_type": "execute_result"
    }
   ],
   "source": [
    "\n",
    "#Q6\n",
    " \n",
    "def isLeapYear(year):\n",
    "    if year%400 == 0:\n",
    "        return True\n",
    "    elif year%100 == 0:\n",
    "        return False\n",
    "    elif year%4 == 0:\n",
    "        return True\n",
    "    else:\n",
    "        return False\n",
    "\n",
    "isLeapYear(2200)\n"
   ]
  },
  {
   "cell_type": "code",
   "execution_count": 238,
   "metadata": {},
   "outputs": [
    {
     "data": {
      "text/plain": [
       "False"
      ]
     },
     "execution_count": 238,
     "metadata": {},
     "output_type": "execute_result"
    }
   ],
   "source": [
    "#Q7\n",
    "\n",
    "def isValidDate(year, month, day):\n",
    "    days_in_month = {\n",
    "        1: 31,  # January\n",
    "        2: 29 if (year % 4 == 0 and year % 100 != 0) or (year % 400 == 0) else 28,  # February (leap year)\n",
    "        3: 31,  # March\n",
    "        4: 30,  # April\n",
    "        5: 31,  # May\n",
    "        6: 30,  # June\n",
    "        7: 31,  # July\n",
    "        8: 31,  # August\n",
    "        9: 30,  # September\n",
    "        10: 31,  # October\n",
    "        11: 30,  # November\n",
    "        12: 31   # December\n",
    "    }\n",
    "\n",
    "    if year < 1 or month < 1 or month > 12 or day < 1 or day > days_in_month[month]:\n",
    "        return False\n",
    "\n",
    "    return True\n",
    "\n",
    "\n",
    "assert isValidDate(2001, 2, 29)\n",
    "assert isValidDate(2001, 2, 29) == False\n",
    "assert isValidDate(2029, 13, 1) == False\n",
    "assert isValidDate(1000000, 1, 1) == True\n",
    "assert isValidDate(2015, 4, 31) == False\n"
   ]
  },
  {
   "cell_type": "code",
   "execution_count": 56,
   "metadata": {},
   "outputs": [],
   "source": [
    "#Q8\n",
    "\n",
    "def commaFormat(number):\n",
    "    number_str = str(number)\n",
    "    whole_part, *fractional_part = number_str.split('.')\n",
    "    whole_number_part = \"{:,}\".format(int(whole_part))\n",
    "    formatted_number = whole_number_part + ('.' + fractional_part[0] if fractional_part else '')\n",
    "\n",
    "    return formatted_number\n",
    "\n",
    "commaFormat(1234567890)\n",
    "\n",
    "assert commaFormat(1) == '1'\n",
    "assert commaFormat(10) == '10'\n",
    "assert commaFormat(100) == '100'\n",
    "assert commaFormat(1000) == '1,000'\n",
    "assert commaFormat(10000) == '10,000'\n",
    "assert commaFormat(100000) == '100,000'\n",
    "assert commaFormat(1000000) == '1,000,000'\n",
    "assert commaFormat(1234567890) == '1,234,567,890'\n",
    "assert commaFormat(1000.123456) == '1,000.123456'\n"
   ]
  }
 ],
 "metadata": {
  "kernelspec": {
   "display_name": "base",
   "language": "python",
   "name": "python3"
  },
  "language_info": {
   "codemirror_mode": {
    "name": "ipython",
    "version": 3
   },
   "file_extension": ".py",
   "mimetype": "text/x-python",
   "name": "python",
   "nbconvert_exporter": "python",
   "pygments_lexer": "ipython3",
   "version": "3.11.5"
  }
 },
 "nbformat": 4,
 "nbformat_minor": 2
}
