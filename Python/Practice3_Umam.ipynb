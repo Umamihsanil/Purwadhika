{
 "cells": [
  {
   "cell_type": "code",
   "execution_count": 2,
   "metadata": {},
   "outputs": [
    {
     "name": "stdout",
     "output_type": "stream",
     "text": [
      "3\n"
     ]
    }
   ],
   "source": [
    "# Q1\n",
    "\n",
    "spam = 'ababaababbbbcccbabcc'\n",
    "word = 'bab'\n",
    "count = 0\n",
    "\n",
    "for i  in range(len(spam)):\n",
    "    if spam[i:i+3] == word:\n",
    "        count+=1\n",
    "\n",
    "print(count)"
   ]
  },
  {
   "cell_type": "code",
   "execution_count": 4,
   "metadata": {},
   "outputs": [
    {
     "name": "stdout",
     "output_type": "stream",
     "text": [
      "True\n"
     ]
    }
   ],
   "source": [
    "#Q2\n",
    "\n",
    "spam = 'oOxxX'\n",
    "\n",
    "count_o = 0\n",
    "count_O = 0\n",
    "count_x = 0\n",
    "count_X = 0\n",
    "\n",
    "for i in spam:\n",
    "    if i == 'o':\n",
    "        count_o += 1\n",
    "    elif i == 'x':\n",
    "        count_x += 1\n",
    "    elif i == 'O' :\n",
    "        count_O += 1\n",
    "    else:\n",
    "        count_X += 1\n",
    "\n",
    "value = count_o == count_x\n",
    "print(value)\n"
   ]
  },
  {
   "cell_type": "code",
   "execution_count": 3,
   "metadata": {},
   "outputs": [
    {
     "name": "stdout",
     "output_type": "stream",
     "text": [
      "153 is narcissistic number\n"
     ]
    }
   ],
   "source": [
    "#Q3\n",
    "\n",
    "spam = 153\n",
    "\n",
    "str_spam = str(spam)\n",
    "digit = len(str_spam)\n",
    "\n",
    "total_sum = 0\n",
    "\n",
    "for i in str_spam:\n",
    "    total_sum += int(i) ** digit\n",
    "\n",
    "if total_sum == spam:\n",
    "    print (f'{spam} is narcissistic number')\n",
    "\n",
    "else:\n",
    "    print (f'{spam} is not narcissistic number')"
   ]
  },
  {
   "cell_type": "code",
   "execution_count": 43,
   "metadata": {},
   "outputs": [
    {
     "name": "stdout",
     "output_type": "stream",
     "text": [
      " 1 2 Fizz 4 Buzz Fizz 7 8 Fizz Buzz 11 Fizz 13 14 FizzBuzz 16 17 Fizz 19 Buzz Fizz 22 23 Fizz Buzz 26 Fizz 28 29 FizzBuzz 31 32 Fizz 34 Buzz \n"
     ]
    }
   ],
   "source": [
    "#Q4\n",
    "\n",
    "while True:\n",
    "    number = input('Enter number greater than 0 or QUIT: ')\n",
    "    result= ' '\n",
    "\n",
    "    if number.lower() == 'quit':\n",
    "        break\n",
    "    else:\n",
    "        upTo = int(number)\n",
    "        for i in range(upTo):\n",
    "            a = i + 1\n",
    "            if a % 3 == 0 and a % 5 == 0: result += 'FizzBuzz '\n",
    "            elif a % 3 == 0: result += 'Fizz '\n",
    "            elif a % 5 == 0: result += 'Buzz '\n",
    "            else: result += str(a) + ' '\n",
    "        print(result)\n",
    "        break"
   ]
  },
  {
   "cell_type": "code",
   "execution_count": null,
   "metadata": {},
   "outputs": [],
   "source": [
    "#Q5\n",
    "\n",
    "text = input('Silakan ketikkan kata atau kalimat: ')  \n",
    "oldText = input('Ketikkan kata yang akan diganti: ') \n",
    "newText = input('Ketikkan kata pengganti: ')\n",
    "\n",
    "newSentence = text.replace(oldText, newText)\n",
    "\n",
    "while True:\n",
    "    if oldText in text:\n",
    "        print(newSentence)\n",
    "    else: print('Tidak ada yang cocok!') \n",
    "    break"
   ]
  },
  {
   "cell_type": "code",
   "execution_count": 217,
   "metadata": {},
   "outputs": [
    {
     "name": "stdout",
     "output_type": "stream",
     "text": [
      "26, 13, 40, 20, 10, 5, 16, 8, 4, 2, 1\n"
     ]
    }
   ],
   "source": [
    "#Q6\n",
    "\n",
    "number = input('Enter a starting number (greater than 0) or QUIT: ')\n",
    "result= ''\n",
    "\n",
    "while True:\n",
    "    if number.lower() == 'quit':\n",
    "        break\n",
    "    else:\n",
    "        n =  int(number)\n",
    "        result += str(n) + ', '\n",
    "        for i in range(n):\n",
    "        \n",
    "            if n == 1: break\n",
    "            elif n%2 == 0:\n",
    "                n = n//2\n",
    "                if n==1:\n",
    "                  result += str(n)\n",
    "                else:  \n",
    "                    result += str(n) + ', '\n",
    "            elif n%2 != 0:\n",
    "                n = 3*n+1\n",
    "                result += str(n) + ', '    \n",
    "            \n",
    "        print(result)\n",
    "    break"
   ]
  },
  {
   "cell_type": "code",
   "execution_count": 2,
   "metadata": {},
   "outputs": [
    {
     "name": "stdout",
     "output_type": "stream",
     "text": [
      "0, 1, 1, 2, 3, 5, 8, 13, 21, 34\n"
     ]
    }
   ],
   "source": [
    "\n",
    "#Q7\n",
    "n = input(\"Enter the Nth Fibonacci number you wish to calculate or QUIT to quit: \")\n",
    "a=0\n",
    "b=1\n",
    "result = ''\n",
    "\n",
    "while True:\n",
    "    if n.lower() == 'quit':\n",
    "        break\n",
    "    else:\n",
    "        num = int(n)    \n",
    "        if num <= 0:\n",
    "            print(\"Please enter a positive integer\")\n",
    "        elif num == 1:\n",
    "            result += str(a)\n",
    "        elif num == 2:\n",
    "            result += str(b)\n",
    "        else:\n",
    "            result += str(a) + ', ' + str(b) + ', '\n",
    "            for i in range(3, num + 1):\n",
    "                a, b = b, a + b\n",
    "                result += str(b) + ', '\n",
    "\n",
    "    print(result[:-2])\n",
    "    break"
   ]
  },
  {
   "cell_type": "code",
   "execution_count": 146,
   "metadata": {},
   "outputs": [
    {
     "name": "stdout",
     "output_type": "stream",
     "text": [
      "Key #0: QIIX QI FC XLI VSWI FYWLIW XSRMKLX.\n",
      "Key #1: PHHW PH EB WKH URVH EXVKHV WRQLJKW.\n",
      "Key #2: OGGV OG DA VJG TQUG DWUJGU VQPKIJV.\n",
      "Key #3: NFFU NF CZ UIF SPTF CVTIFT UPOJHIU.\n",
      "Key #4: MEET ME BY THE ROSE BUSHES TONIGHT.\n",
      "Key #5: LDDS LD AX SGD QNRD ATRGDR SNMHFGS.\n",
      "Key #6: KCCR KC ZW RFC PMQC ZSQFCQ RMLGEFR.\n",
      "Key #7: JBBQ JB YV QEB OLPB YRPEBP QLKFDEQ.\n",
      "Key #8: IAAP IA XU PDA NKOA XQODAO PKJECDP.\n",
      "Key #9: HZZO HZ WT OCZ MJNZ WPNCZN OJIDBCO.\n",
      "Key #10: GYYN GY VS NBY LIMY VOMBYM NIHCABN.\n",
      "Key #11: FXXM FX UR MAX KHLX UNLAXL MHGBZAM.\n",
      "Key #12: EWWL EW TQ LZW JGKW TMKZWK LGFAYZL.\n",
      "Key #13: DVVK DV SP KYV IFJV SLJYVJ KFEZXYK.\n",
      "Key #14: CUUJ CU RO JXU HEIU RKIXUI JEDYWXJ.\n",
      "Key #15: BTTI BT QN IWT GDHT QJHWTH IDCXVWI.\n",
      "Key #16: ASSH AS PM HVS FCGS PIGVSG HCBWUVH.\n",
      "Key #17: ZRRG ZR OL GUR EBFR OHFURF GBAVTUG.\n",
      "Key #18: YQQF YQ NK FTQ DAEQ NGETQE FAZUSTF.\n",
      "Key #19: XPPE XP MJ ESP CZDP MFDSPD EZYTRSE.\n",
      "Key #20: WOOD WO LI DRO BYCO LECROC DYXSQRD.\n",
      "Key #21: VNNC VN KH CQN AXBN KDBQNB CXWRPQC.\n",
      "Key #22: UMMB UM JG BPM ZWAM JCAPMA BWVQOPB.\n",
      "Key #23: TLLA TL IF AOL YVZL IBZOLZ AVUPNOA.\n",
      "Key #24: SKKZ SK HE ZNK XUYK HAYNKY ZUTOMNZ.\n",
      "Key #25: RJJY RJ GD YMJ WTXJ GZXMJX YTSNLMY.\n"
     ]
    }
   ],
   "source": [
    "#Q8\n",
    "\n",
    "message = input('Enter the message to hack: ')\n",
    "alphabet = 'ABCDEFGHIJKLMNOPQRSTUVWXYZ'\n",
    "message2 = message.upper()\n",
    "\n",
    "while True:\n",
    "    for key in range(len(alphabet)):\n",
    "       translated = ''\n",
    "       for symbol in message2:\n",
    "          if symbol in alphabet:\n",
    "             num = alphabet.find(symbol)\n",
    "             num = num - key\n",
    "             translated = translated + alphabet[num]\n",
    "          else:\n",
    "             translated = translated + symbol\n",
    "       print(f'Key #{key}: {translated}')\n",
    "    break\n"
   ]
  }
 ],
 "metadata": {
  "kernelspec": {
   "display_name": "base",
   "language": "python",
   "name": "python3"
  },
  "language_info": {
   "codemirror_mode": {
    "name": "ipython",
    "version": 3
   },
   "file_extension": ".py",
   "mimetype": "text/x-python",
   "name": "python",
   "nbconvert_exporter": "python",
   "pygments_lexer": "ipython3",
   "version": "3.11.5"
  }
 },
 "nbformat": 4,
 "nbformat_minor": 2
}
